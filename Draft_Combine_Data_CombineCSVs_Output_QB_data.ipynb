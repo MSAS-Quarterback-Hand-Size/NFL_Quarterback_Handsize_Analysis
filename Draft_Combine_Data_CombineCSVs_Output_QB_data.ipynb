{
  "nbformat": 4,
  "nbformat_minor": 0,
  "metadata": {
    "colab": {
      "provenance": [],
      "include_colab_link": true
    },
    "kernelspec": {
      "name": "python3",
      "display_name": "Python 3"
    },
    "language_info": {
      "name": "python"
    }
  },
  "cells": [
    {
      "cell_type": "markdown",
      "metadata": {
        "id": "view-in-github",
        "colab_type": "text"
      },
      "source": [
        "<a href=\"https://colab.research.google.com/github/MSAS-Quarterback-Hand-Size/NFL_Quarterback_Handsize_Analysis/blob/main/Draft_Combine_Data_CombineCSVs_Output_QB_data.ipynb\" target=\"_parent\"><img src=\"https://colab.research.google.com/assets/colab-badge.svg\" alt=\"Open In Colab\"/></a>"
      ]
    },
    {
      "cell_type": "code",
      "execution_count": null,
      "metadata": {
        "colab": {
          "base_uri": "https://localhost:8080/",
          "height": 1000
        },
        "id": "wFoXVIPWFo3L",
        "outputId": "0cd040dc-51d9-434a-f1ff-721592006d3f"
      },
      "outputs": [
        {
          "output_type": "stream",
          "name": "stdout",
          "text": [
            "df.columns Index(['Player', 'Pos', 'School', 'College', 'Ht', 'Wt', '40yd', 'Vertical',\n",
            "       'Bench', 'Broad Jump', '3Cone', 'Shuttle', 'Drafted (tm/rnd/yr)',\n",
            "       'Player-additional', 'draft_year'],\n",
            "      dtype='object')\n",
            "df.columns Index(['Player', 'Pos', 'School', 'College', 'Ht', 'Wt', '40yd', 'Vertical',\n",
            "       'Bench', 'Broad Jump', '3Cone', 'Shuttle', 'Drafted (tm/rnd/yr)',\n",
            "       'Player-additional', 'draft_year'],\n",
            "      dtype='object')\n",
            "df.columns Index(['Player', 'Pos', 'School', 'College', 'Ht', 'Wt', '40yd', 'Vertical',\n",
            "       'Bench', 'Broad Jump', '3Cone', 'Shuttle', 'Drafted (tm/rnd/yr)',\n",
            "       'Player-additional', 'draft_year'],\n",
            "      dtype='object')\n",
            "df.columns Index(['Player', 'Pos', 'School', 'College', 'Ht', 'Wt', '40yd', 'Vertical',\n",
            "       'Bench', 'Broad Jump', '3Cone', 'Shuttle', 'Drafted (tm/rnd/yr)',\n",
            "       'Player-additional', 'draft_year'],\n",
            "      dtype='object')\n",
            "df.columns Index(['Player', 'Pos', 'School', 'College', 'Ht', 'Wt', '40yd', 'Vertical',\n",
            "       'Bench', 'Broad Jump', '3Cone', 'Shuttle', 'Drafted (tm/rnd/yr)',\n",
            "       'Player-additional', 'draft_year'],\n",
            "      dtype='object')\n",
            "df.columns Index(['Player', 'Pos', 'School', 'College', 'Ht', 'Wt', '40yd', 'Vertical',\n",
            "       'Bench', 'Broad Jump', '3Cone', 'Shuttle', 'Drafted (tm/rnd/yr)',\n",
            "       'Player-additional', 'draft_year'],\n",
            "      dtype='object')\n",
            "df.columns Index(['Player', 'Pos', 'School', 'College', 'Ht', 'Wt', '40yd', 'Vertical',\n",
            "       'Bench', 'Broad Jump', '3Cone', 'Shuttle', 'Drafted (tm/rnd/yr)',\n",
            "       'Player-additional', 'draft_year'],\n",
            "      dtype='object')\n",
            "df.columns Index(['Player', 'Pos', 'School', 'College', 'Ht', 'Wt', '40yd', 'Vertical',\n",
            "       'Bench', 'Broad Jump', '3Cone', 'Shuttle', 'Drafted (tm/rnd/yr)',\n",
            "       'Player-additional', 'draft_year'],\n",
            "      dtype='object')\n",
            "df.columns Index(['Player', 'Pos', 'School', 'College', 'Ht', 'Wt', '40yd', 'Vertical',\n",
            "       'Bench', 'Broad Jump', '3Cone', 'Shuttle', 'Drafted (tm/rnd/yr)',\n",
            "       'Player-additional', 'draft_year'],\n",
            "      dtype='object')\n",
            "df.columns Index(['Player', 'Pos', 'School', 'College', 'Ht', 'Wt', '40yd', 'Vertical',\n",
            "       'Bench', 'Broad Jump', '3Cone', 'Shuttle', 'Drafted (tm/rnd/yr)',\n",
            "       'Player-additional', 'draft_year'],\n",
            "      dtype='object')\n",
            "df.columns Index(['Player', 'Pos', 'School', 'College', 'Ht', 'Wt', '40yd', 'Vertical',\n",
            "       'Bench', 'Broad Jump', '3Cone', 'Shuttle', 'Drafted (tm/rnd/yr)',\n",
            "       'Player-additional', 'draft_year'],\n",
            "      dtype='object')\n",
            "df.columns Index(['Player', 'Pos', 'School', 'College', 'Ht', 'Wt', '40yd', 'Vertical',\n",
            "       'Bench', 'Broad Jump', '3Cone', 'Shuttle', 'Drafted (tm/rnd/yr)',\n",
            "       'Player-additional', 'draft_year'],\n",
            "      dtype='object')\n",
            "df.columns Index(['Player', 'Pos', 'School', 'College', 'Ht', 'Wt', '40yd', 'Vertical',\n",
            "       'Bench', 'Broad Jump', '3Cone', 'Shuttle', 'Drafted (tm/rnd/yr)',\n",
            "       'Player-additional', 'draft_year'],\n",
            "      dtype='object')\n",
            "df.columns Index(['Player', 'Pos', 'School', 'College', 'Ht', 'Wt', '40yd', 'Vertical',\n",
            "       'Bench', 'Broad Jump', '3Cone', 'Shuttle', 'Drafted (tm/rnd/yr)',\n",
            "       'Player-additional', 'draft_year'],\n",
            "      dtype='object')\n",
            "df.columns Index(['Player', 'Pos', 'School', 'College', 'Ht', 'Wt', '40yd', 'Vertical',\n",
            "       'Bench', 'Broad Jump', '3Cone', 'Shuttle', 'Drafted (tm/rnd/yr)',\n",
            "       'Player-additional', 'draft_year'],\n",
            "      dtype='object')\n",
            "df.columns Index(['Player', 'Pos', 'School', 'College', 'Ht', 'Wt', '40yd', 'Vertical',\n",
            "       'Bench', 'Broad Jump', '3Cone', 'Shuttle', 'Drafted (tm/rnd/yr)',\n",
            "       'Player-additional', 'draft_year'],\n",
            "      dtype='object')\n",
            "df.columns Index(['Player', 'Pos', 'School', 'College', 'Ht', 'Wt', '40yd', 'Vertical',\n",
            "       'Bench', 'Broad Jump', '3Cone', 'Shuttle', 'Drafted (tm/rnd/yr)',\n",
            "       'Player-additional', 'draft_year'],\n",
            "      dtype='object')\n",
            "df.columns Index(['Player', 'Pos', 'School', 'College', 'Ht', 'Wt', '40yd', 'Vertical',\n",
            "       'Bench', 'Broad Jump', '3Cone', 'Shuttle', 'Drafted (tm/rnd/yr)',\n",
            "       'Player-additional', 'draft_year'],\n",
            "      dtype='object')\n",
            "df.columns Index(['Player', 'Pos', 'School', 'College', 'Ht', 'Wt', '40yd', 'Vertical',\n",
            "       'Bench', 'Broad Jump', '3Cone', 'Shuttle', 'Drafted (tm/rnd/yr)',\n",
            "       'Player-additional', 'draft_year'],\n",
            "      dtype='object')\n",
            "df.columns Index(['Player', 'Pos', 'School', 'College', 'Ht', 'Wt', '40yd', 'Vertical',\n",
            "       'Bench', 'Broad Jump', '3Cone', 'Shuttle', 'Drafted (tm/rnd/yr)',\n",
            "       'Player-additional', 'draft_year'],\n",
            "      dtype='object')\n",
            "df.columns Index(['Player', 'Pos', 'School', 'College', 'Ht', 'Wt', '40yd', 'Vertical',\n",
            "       'Bench', 'Broad Jump', '3Cone', 'Shuttle', 'Drafted (tm/rnd/yr)',\n",
            "       'Player-additional', 'draft_year'],\n",
            "      dtype='object')\n",
            "df.columns Index(['Player', 'Pos', 'School', 'College', 'Ht', 'Wt', '40yd', 'Vertical',\n",
            "       'Bench', 'Broad Jump', '3Cone', 'Shuttle', 'Drafted (tm/rnd/yr)',\n",
            "       'Player-additional', 'draft_year'],\n",
            "      dtype='object')\n",
            "df.columns Index(['Player', 'Pos', 'School', 'College', 'Ht', 'Wt', '40yd', 'Vertical',\n",
            "       'Bench', 'Broad Jump', '3Cone', 'Shuttle', 'Drafted (tm/rnd/yr)',\n",
            "       'Player-additional', 'draft_year'],\n",
            "      dtype='object')\n",
            "df.columns Index(['Player', 'Pos', 'School', 'College', 'Ht', 'Wt', '40yd', 'Vertical',\n",
            "       'Bench', 'Broad Jump', '3Cone', 'Shuttle', 'Drafted (tm/rnd/yr)',\n",
            "       'Player-additional', 'draft_year'],\n",
            "      dtype='object')\n",
            "df.columns Index(['Player', 'Pos', 'School', 'College', 'Ht', 'Wt', '40yd', 'Vertical',\n",
            "       'Bench', 'Broad Jump', '3Cone', 'Shuttle', 'Drafted (tm/rnd/yr)',\n",
            "       'Player-additional', 'draft_year'],\n",
            "      dtype='object')\n"
          ]
        },
        {
          "output_type": "error",
          "ename": "OSError",
          "evalue": "Cannot save file into a non-existent directory: '/content/drive/MyDrive/MSAS 2025, Jacob and Levi/Complete_Combine_Database'",
          "traceback": [
            "\u001b[0;31m---------------------------------------------------------------------------\u001b[0m",
            "\u001b[0;31mOSError\u001b[0m                                   Traceback (most recent call last)",
            "\u001b[0;32m<ipython-input-8-0af1f916e3ef>\u001b[0m in \u001b[0;36m<cell line: 40>\u001b[0;34m()\u001b[0m\n\u001b[1;32m     42\u001b[0m \u001b[0;34m\u001b[0m\u001b[0m\n\u001b[1;32m     43\u001b[0m     \u001b[0;31m# Save the combined DataFrame to a new CSV file\u001b[0m\u001b[0;34m\u001b[0m\u001b[0;34m\u001b[0m\u001b[0m\n\u001b[0;32m---> 44\u001b[0;31m     \u001b[0mcombined_df\u001b[0m\u001b[0;34m.\u001b[0m\u001b[0mto_csv\u001b[0m\u001b[0;34m(\u001b[0m\u001b[0moutput_file\u001b[0m\u001b[0;34m,\u001b[0m \u001b[0mindex\u001b[0m\u001b[0;34m=\u001b[0m\u001b[0;32mFalse\u001b[0m\u001b[0;34m)\u001b[0m\u001b[0;34m\u001b[0m\u001b[0;34m\u001b[0m\u001b[0m\n\u001b[0m\u001b[1;32m     45\u001b[0m     \u001b[0mprint\u001b[0m\u001b[0;34m(\u001b[0m\u001b[0;34mf\"Combined CSV saved as: {output_file}\"\u001b[0m\u001b[0;34m)\u001b[0m\u001b[0;34m\u001b[0m\u001b[0;34m\u001b[0m\u001b[0m\n\u001b[1;32m     46\u001b[0m \u001b[0;32melse\u001b[0m\u001b[0;34m:\u001b[0m\u001b[0;34m\u001b[0m\u001b[0;34m\u001b[0m\u001b[0m\n",
            "\u001b[0;32m/usr/local/lib/python3.10/dist-packages/pandas/util/_decorators.py\u001b[0m in \u001b[0;36mwrapper\u001b[0;34m(*args, **kwargs)\u001b[0m\n\u001b[1;32m    331\u001b[0m                     \u001b[0mstacklevel\u001b[0m\u001b[0;34m=\u001b[0m\u001b[0mfind_stack_level\u001b[0m\u001b[0;34m(\u001b[0m\u001b[0;34m)\u001b[0m\u001b[0;34m,\u001b[0m\u001b[0;34m\u001b[0m\u001b[0;34m\u001b[0m\u001b[0m\n\u001b[1;32m    332\u001b[0m                 )\n\u001b[0;32m--> 333\u001b[0;31m             \u001b[0;32mreturn\u001b[0m \u001b[0mfunc\u001b[0m\u001b[0;34m(\u001b[0m\u001b[0;34m*\u001b[0m\u001b[0margs\u001b[0m\u001b[0;34m,\u001b[0m \u001b[0;34m**\u001b[0m\u001b[0mkwargs\u001b[0m\u001b[0;34m)\u001b[0m\u001b[0;34m\u001b[0m\u001b[0;34m\u001b[0m\u001b[0m\n\u001b[0m\u001b[1;32m    334\u001b[0m \u001b[0;34m\u001b[0m\u001b[0m\n\u001b[1;32m    335\u001b[0m         \u001b[0;31m# error: \"Callable[[VarArg(Any), KwArg(Any)], Any]\" has no\u001b[0m\u001b[0;34m\u001b[0m\u001b[0;34m\u001b[0m\u001b[0m\n",
            "\u001b[0;32m/usr/local/lib/python3.10/dist-packages/pandas/core/generic.py\u001b[0m in \u001b[0;36mto_csv\u001b[0;34m(self, path_or_buf, sep, na_rep, float_format, columns, header, index, index_label, mode, encoding, compression, quoting, quotechar, lineterminator, chunksize, date_format, doublequote, escapechar, decimal, errors, storage_options)\u001b[0m\n\u001b[1;32m   3965\u001b[0m         )\n\u001b[1;32m   3966\u001b[0m \u001b[0;34m\u001b[0m\u001b[0m\n\u001b[0;32m-> 3967\u001b[0;31m         return DataFrameRenderer(formatter).to_csv(\n\u001b[0m\u001b[1;32m   3968\u001b[0m             \u001b[0mpath_or_buf\u001b[0m\u001b[0;34m,\u001b[0m\u001b[0;34m\u001b[0m\u001b[0;34m\u001b[0m\u001b[0m\n\u001b[1;32m   3969\u001b[0m             \u001b[0mlineterminator\u001b[0m\u001b[0;34m=\u001b[0m\u001b[0mlineterminator\u001b[0m\u001b[0;34m,\u001b[0m\u001b[0;34m\u001b[0m\u001b[0;34m\u001b[0m\u001b[0m\n",
            "\u001b[0;32m/usr/local/lib/python3.10/dist-packages/pandas/io/formats/format.py\u001b[0m in \u001b[0;36mto_csv\u001b[0;34m(self, path_or_buf, encoding, sep, columns, index_label, mode, compression, quoting, quotechar, lineterminator, chunksize, date_format, doublequote, escapechar, errors, storage_options)\u001b[0m\n\u001b[1;32m   1012\u001b[0m             \u001b[0mformatter\u001b[0m\u001b[0;34m=\u001b[0m\u001b[0mself\u001b[0m\u001b[0;34m.\u001b[0m\u001b[0mfmt\u001b[0m\u001b[0;34m,\u001b[0m\u001b[0;34m\u001b[0m\u001b[0;34m\u001b[0m\u001b[0m\n\u001b[1;32m   1013\u001b[0m         )\n\u001b[0;32m-> 1014\u001b[0;31m         \u001b[0mcsv_formatter\u001b[0m\u001b[0;34m.\u001b[0m\u001b[0msave\u001b[0m\u001b[0;34m(\u001b[0m\u001b[0;34m)\u001b[0m\u001b[0;34m\u001b[0m\u001b[0;34m\u001b[0m\u001b[0m\n\u001b[0m\u001b[1;32m   1015\u001b[0m \u001b[0;34m\u001b[0m\u001b[0m\n\u001b[1;32m   1016\u001b[0m         \u001b[0;32mif\u001b[0m \u001b[0mcreated_buffer\u001b[0m\u001b[0;34m:\u001b[0m\u001b[0;34m\u001b[0m\u001b[0;34m\u001b[0m\u001b[0m\n",
            "\u001b[0;32m/usr/local/lib/python3.10/dist-packages/pandas/io/formats/csvs.py\u001b[0m in \u001b[0;36msave\u001b[0;34m(self)\u001b[0m\n\u001b[1;32m    249\u001b[0m         \"\"\"\n\u001b[1;32m    250\u001b[0m         \u001b[0;31m# apply compression and byte/text conversion\u001b[0m\u001b[0;34m\u001b[0m\u001b[0;34m\u001b[0m\u001b[0m\n\u001b[0;32m--> 251\u001b[0;31m         with get_handle(\n\u001b[0m\u001b[1;32m    252\u001b[0m             \u001b[0mself\u001b[0m\u001b[0;34m.\u001b[0m\u001b[0mfilepath_or_buffer\u001b[0m\u001b[0;34m,\u001b[0m\u001b[0;34m\u001b[0m\u001b[0;34m\u001b[0m\u001b[0m\n\u001b[1;32m    253\u001b[0m             \u001b[0mself\u001b[0m\u001b[0;34m.\u001b[0m\u001b[0mmode\u001b[0m\u001b[0;34m,\u001b[0m\u001b[0;34m\u001b[0m\u001b[0;34m\u001b[0m\u001b[0m\n",
            "\u001b[0;32m/usr/local/lib/python3.10/dist-packages/pandas/io/common.py\u001b[0m in \u001b[0;36mget_handle\u001b[0;34m(path_or_buf, mode, encoding, compression, memory_map, is_text, errors, storage_options)\u001b[0m\n\u001b[1;32m    747\u001b[0m     \u001b[0;31m# Only for write methods\u001b[0m\u001b[0;34m\u001b[0m\u001b[0;34m\u001b[0m\u001b[0m\n\u001b[1;32m    748\u001b[0m     \u001b[0;32mif\u001b[0m \u001b[0;34m\"r\"\u001b[0m \u001b[0;32mnot\u001b[0m \u001b[0;32min\u001b[0m \u001b[0mmode\u001b[0m \u001b[0;32mand\u001b[0m \u001b[0mis_path\u001b[0m\u001b[0;34m:\u001b[0m\u001b[0;34m\u001b[0m\u001b[0;34m\u001b[0m\u001b[0m\n\u001b[0;32m--> 749\u001b[0;31m         \u001b[0mcheck_parent_directory\u001b[0m\u001b[0;34m(\u001b[0m\u001b[0mstr\u001b[0m\u001b[0;34m(\u001b[0m\u001b[0mhandle\u001b[0m\u001b[0;34m)\u001b[0m\u001b[0;34m)\u001b[0m\u001b[0;34m\u001b[0m\u001b[0;34m\u001b[0m\u001b[0m\n\u001b[0m\u001b[1;32m    750\u001b[0m \u001b[0;34m\u001b[0m\u001b[0m\n\u001b[1;32m    751\u001b[0m     \u001b[0;32mif\u001b[0m \u001b[0mcompression\u001b[0m\u001b[0;34m:\u001b[0m\u001b[0;34m\u001b[0m\u001b[0;34m\u001b[0m\u001b[0m\n",
            "\u001b[0;32m/usr/local/lib/python3.10/dist-packages/pandas/io/common.py\u001b[0m in \u001b[0;36mcheck_parent_directory\u001b[0;34m(path)\u001b[0m\n\u001b[1;32m    614\u001b[0m     \u001b[0mparent\u001b[0m \u001b[0;34m=\u001b[0m \u001b[0mPath\u001b[0m\u001b[0;34m(\u001b[0m\u001b[0mpath\u001b[0m\u001b[0;34m)\u001b[0m\u001b[0;34m.\u001b[0m\u001b[0mparent\u001b[0m\u001b[0;34m\u001b[0m\u001b[0;34m\u001b[0m\u001b[0m\n\u001b[1;32m    615\u001b[0m     \u001b[0;32mif\u001b[0m \u001b[0;32mnot\u001b[0m \u001b[0mparent\u001b[0m\u001b[0;34m.\u001b[0m\u001b[0mis_dir\u001b[0m\u001b[0;34m(\u001b[0m\u001b[0;34m)\u001b[0m\u001b[0;34m:\u001b[0m\u001b[0;34m\u001b[0m\u001b[0;34m\u001b[0m\u001b[0m\n\u001b[0;32m--> 616\u001b[0;31m         \u001b[0;32mraise\u001b[0m \u001b[0mOSError\u001b[0m\u001b[0;34m(\u001b[0m\u001b[0;34mrf\"Cannot save file into a non-existent directory: '{parent}'\"\u001b[0m\u001b[0;34m)\u001b[0m\u001b[0;34m\u001b[0m\u001b[0;34m\u001b[0m\u001b[0m\n\u001b[0m\u001b[1;32m    617\u001b[0m \u001b[0;34m\u001b[0m\u001b[0m\n\u001b[1;32m    618\u001b[0m \u001b[0;34m\u001b[0m\u001b[0m\n",
            "\u001b[0;31mOSError\u001b[0m: Cannot save file into a non-existent directory: '/content/drive/MyDrive/MSAS 2025, Jacob and Levi/Complete_Combine_Database'"
          ]
        }
      ],
      "source": [
        "import os\n",
        "import pandas as pd\n",
        "import re\n",
        "\n",
        "#from google.colab import drive;\n",
        "#drive.mount('/content/drive'); # This will prompt for authorization.\n",
        "\n",
        "# Set the path to the folder containing the CSV files\n",
        "folder_path = \"/content/drive/MyDrive/MSAS 2025, Jacob and Levi/Data_Draft_Combine_CSVs\"\n",
        "\n",
        "# Set the path for the output file\n",
        "output_file = \"/content/drive/MyDrive/MSAS 2025, Jacob and Levi/Complete_Combine_Database/ALL_QBs.csv\"\n",
        "\n",
        "# List to store individual DataFrames\n",
        "dataframes = []\n",
        "\n",
        "# Iterate through each file in the folder\n",
        "for file_name in os.listdir(folder_path):\n",
        "    # Check if the file is a CSV\n",
        "    if file_name.endswith('.csv'):\n",
        "        # Extract the year from the file name using a regular expression\n",
        "        match = re.search(r'\\d{4}', file_name)\n",
        "        draft_year = int(match.group()) if match else None\n",
        "\n",
        "\n",
        "        # Read the CSV into a DataFrame\n",
        "        file_path = os.path.join(folder_path, file_name)\n",
        "        df = pd.read_csv(file_path)\n",
        "\n",
        "        # Add the \"draft_year\" column and set it to the extracted year\n",
        "        df['draft_year'] = draft_year\n",
        "\n",
        "        # Filter rows where the 'Pos' column is 'qb'\n",
        "        if 'Pos' in df.columns:\n",
        "            df_qb = df[df['Pos'].str.lower() == 'qb']  # Case insensitive\n",
        "            dataframes.append(df_qb)\n",
        "\n",
        "# Combine all filtered DataFrames into one\n",
        "if dataframes:\n",
        "    combined_df = pd.concat(dataframes, ignore_index=True)\n",
        "\n",
        "    # Save the combined DataFrame to a new CSV file\n",
        "    combined_df.to_csv(output_file, index=False)\n",
        "    print(f\"Combined CSV saved as: {output_file}\")\n",
        "else:\n",
        "    print(\"No CSV files with the 'Pos' column containing 'qb' were found.\")\n"
      ]
    },
    {
      "cell_type": "code",
      "source": [
        "from google.colab import drive\n",
        "drive.mount('/content/drive')"
      ],
      "metadata": {
        "id": "1hhGX-BpJgxy",
        "colab": {
          "base_uri": "https://localhost:8080/"
        },
        "outputId": "3d0b31fb-a6ea-4d44-83f4-fae86a86a1f0"
      },
      "execution_count": null,
      "outputs": [
        {
          "output_type": "stream",
          "name": "stdout",
          "text": [
            "Drive already mounted at /content/drive; to attempt to forcibly remount, call drive.mount(\"/content/drive\", force_remount=True).\n"
          ]
        }
      ]
    }
  ]
}