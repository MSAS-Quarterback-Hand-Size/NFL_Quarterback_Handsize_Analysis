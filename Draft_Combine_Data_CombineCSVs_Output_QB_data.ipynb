{
  "nbformat": 4,
  "nbformat_minor": 0,
  "metadata": {
    "colab": {
      "provenance": [],
      "include_colab_link": true
    },
    "kernelspec": {
      "name": "python3",
      "display_name": "Python 3"
    },
    "language_info": {
      "name": "python"
    }
  },
  "cells": [
    {
      "cell_type": "markdown",
      "metadata": {
        "id": "view-in-github",
        "colab_type": "text"
      },
      "source": [
        "<a href=\"https://colab.research.google.com/github/MSAS-Quarterback-Hand-Size/NFL_Quarterback_Handsize_Analysis/blob/main/Draft_Combine_Data_CombineCSVs_Output_QB_data.ipynb\" target=\"_parent\"><img src=\"https://colab.research.google.com/assets/colab-badge.svg\" alt=\"Open In Colab\"/></a>"
      ]
    },
    {
      "cell_type": "code",
      "execution_count": 4,
      "metadata": {
        "colab": {
          "base_uri": "https://localhost:8080/"
        },
        "id": "wFoXVIPWFo3L",
        "outputId": "2b3b34ed-5e75-4582-f3f3-893c95868abd"
      },
      "outputs": [
        {
          "output_type": "stream",
          "name": "stdout",
          "text": [
            "Combined CSV saved as: /content/drive/MyDrive/MSAS 2025, Jacob and Levi/Final_CSVs/Combine_All_QBs_with_draft_year.csv\n"
          ]
        }
      ],
      "source": [
        "import os\n",
        "import pandas as pd\n",
        "import re\n",
        "\n",
        "#from google.colab import drive;\n",
        "#drive.mount('/content/drive'); # This will prompt for authorization.\n",
        "\n",
        "# Set the path to the folder containing the CSV files\n",
        "folder_path = \"/content/drive/MyDrive/MSAS 2025, Jacob and Levi/Data_Draft_Combine_CSVs\"\n",
        "\n",
        "# Set the path for the output file\n",
        "output_file = \"/content/drive/MyDrive/MSAS 2025, Jacob and Levi/Final_CSVs/Combine_All_QBs_with_draft_year.csv\"\n",
        "\n",
        "# List to store individual DataFrames\n",
        "dataframes = []\n",
        "\n",
        "# Iterate through each file in the folder\n",
        "for file_name in os.listdir(folder_path):\n",
        "    # Check if the file is a CSV\n",
        "    if file_name.endswith('.csv'):\n",
        "        # Extract the year from the file name using a regular expression\n",
        "        match = re.search(r'\\d{4}', file_name)\n",
        "        draft_year = int(match.group()) if match else None\n",
        "\n",
        "\n",
        "        # Read the CSV into a DataFrame\n",
        "        file_path = os.path.join(folder_path, file_name)\n",
        "        df = pd.read_csv(file_path)\n",
        "\n",
        "        # Add the \"draft_year\" column and set it to the extracted year\n",
        "        df['draft_year'] = draft_year\n",
        "\n",
        "        # Filter rows where the 'Pos' column is 'qb'\n",
        "        if 'Pos' in df.columns:\n",
        "            df_qb = df[df['Pos'].str.lower() == 'qb']  # Case insensitive\n",
        "            dataframes.append(df_qb)\n",
        "\n",
        "# Combine all filtered DataFrames into one\n",
        "if dataframes:\n",
        "    combined_df = pd.concat(dataframes, ignore_index=True)\n",
        "\n",
        "    # Save the combined DataFrame to a new CSV file\n",
        "    combined_df.to_csv(output_file, index=False)\n",
        "    print(f\"Combined CSV saved as: {output_file}\")\n",
        "else:\n",
        "    print(\"No CSV files with the 'Pos' column containing 'qb' were found.\")\n"
      ]
    },
    {
      "cell_type": "code",
      "source": [
        "from google.colab import drive\n",
        "drive.mount('/content/drive')"
      ],
      "metadata": {
        "id": "1hhGX-BpJgxy",
        "colab": {
          "base_uri": "https://localhost:8080/"
        },
        "outputId": "f4fcb92c-533d-4090-f282-81c49d460246"
      },
      "execution_count": null,
      "outputs": [
        {
          "output_type": "stream",
          "name": "stdout",
          "text": [
            "Mounted at /content/drive\n"
          ]
        }
      ]
    }
  ]
}